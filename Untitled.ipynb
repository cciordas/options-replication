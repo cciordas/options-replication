{
 "cells": [
  {
   "cell_type": "code",
   "execution_count": 1,
   "metadata": {
    "collapsed": false
   },
   "outputs": [
    {
     "name": "stdout",
     "output_type": "stream",
     "text": [
      "Populating the interactive namespace from numpy and matplotlib\n"
     ]
    }
   ],
   "source": [
    "%pylab inline\n",
    "from DHedgers import *\n",
    "from Payoffs  import *\n",
    "from PricerBS import *\n",
    "from PricerMC import *\n",
    "from datetime import datetime\n",
    "import numpy  as np"
   ]
  },
  {
   "cell_type": "code",
   "execution_count": 2,
   "metadata": {
    "collapsed": false
   },
   "outputs": [],
   "source": [
    "TDAY  = datetime.today()\n",
    "EXP   = TDAY + timedelta(days=30)\n",
    "K     = 100\n",
    "SZ    = 1\n",
    "VOL   = 0.2\n",
    "R     = 0.0\n",
    "SPOTS = np.arange(100, 101, 1, dtype = float)\n",
    "\n",
    "payoff_zero  = PayoffSimple(K  , EXP, \"C\",   0)\n",
    "payoff_call1 = PayoffSimple(K  , EXP, \"C\",  SZ)\n",
    "payoff_call2 = PayoffSimple(K-5, EXP, \"C\",  SZ)\n",
    "payoff_call3 = PayoffSimple(K+5, EXP, \"C\", -SZ)\n",
    "\n",
    "payoff=PayoffConstExpiration([payoff_call1])"
   ]
  },
  {
   "cell_type": "code",
   "execution_count": 3,
   "metadata": {
    "collapsed": false
   },
   "outputs": [
    {
     "name": "stdout",
     "output_type": "stream",
     "text": [
      "[ 2.28715063]\n"
     ]
    }
   ],
   "source": [
    "# BLACK-SCHOLES\n",
    "\n",
    "pricerBS = PricerBlackScholes(payoff)\n",
    "pxBS, deltaBS, gammaBS = pricerBS.price(TDAY, SPOTS, VOL, R)\n",
    "print pxBS"
   ]
  },
  {
   "cell_type": "code",
   "execution_count": 4,
   "metadata": {
    "collapsed": false
   },
   "outputs": [
    {
     "name": "stdout",
     "output_type": "stream",
     "text": [
      "[ 2.28565396] 3.46669428073\n"
     ]
    },
    {
     "data": {
      "image/png": "[encoded data removed]",
      "text/plain": [
       "<matplotlib.figure.Figure at 0x104728f90>"
      ]
     },
     "metadata": {},
     "output_type": "display_data"
    }
   ],
   "source": [
    "# NO HEDGING MC\n",
    "NPATHS = 100000\n",
    "\n",
    "pricerMCNH = PricerMC_NoHedging(SPOTS, VOL, R, NPATHS, 1)\n",
    "pricerMCNH.generate_paths(EXP)\n",
    "pxMCNH, pxs = pricerMCNH.price(payoff)\n",
    "\n",
    "#plt.plot(SPOTS, pxBS)\n",
    "#plt.plot(SPOTS, pxMCNH)\n",
    "plt.hist(pxs, np.arange(0, 40, 0.5))\n",
    "print pxMCNH, np.std(pxs)"
   ]
  },
  {
   "cell_type": "code",
   "execution_count": 46,
   "metadata": {
    "collapsed": false
   },
   "outputs": [
    {
     "name": "stdout",
     "output_type": "stream",
     "text": [
      "[ 2.28659934] 0.114693812739\n"
     ]
    },
    {
     "data": {
      "image/png": "[encoded data removed]",
      "text/plain": [
       "<matplotlib.figure.Figure at 0x1146a85d0>"
      ]
     },
     "metadata": {},
     "output_type": "display_data"
    }
   ],
   "source": [
    "NUM_REHEDGE_DAILY = 10\n",
    "NPATHS = 1000\n",
    "\n",
    "hedgerBS  = DHedgePolicyBS      (payoff, VOL, R)\n",
    "hedgerRND = DHedgePolicyRandom  (0, 1)\n",
    "hedgerCT  = DHedgePolicyConstant(0.7)\n",
    "hedgerLG  = DHedgePolicyLogistic(K, VOL, EXP, 0.5)\n",
    "\n",
    "pricerMCDH = PricerMC_DynamicHedging(SPOTS, VOL, R, NPATHS, NUM_REHEDGE_DAILY, 1, 1, hedgerBS, TDAY, False, False)\n",
    "pricerMCDH.generate_paths(EXP)\n",
    "bidMCDH, askMCDH, PLs = pricerMCDH.price(payoff)\n",
    "midMCDH = 0.5 * (bidMCDH + askMCDH)\n",
    "\n",
    "plt.hist(PLs, arange(0, 40, 0.05))\n",
    "print midMCDH, np.std(PLs)"
   ]
  },
  {
   "cell_type": "code",
   "execution_count": null,
   "metadata": {
    "collapsed": false
   },
   "outputs": [],
   "source": [
    "def f(S, t, lmbd, K, vol):\n",
    "    x = (S - K)/float(K)/vol\n",
    "    return 1 / (1 + exp(-lmbd*x/t))\n",
    "    \n",
    "Ss= arange(25, 175)\n",
    "ys = f(Ss, 1, 0.5, 100, 0.2) \n",
    "plt.plot(Ss,ys)"
   ]
  },
  {
   "cell_type": "markdown",
   "metadata": {},
   "source": [
    "##### S = arange(90, 110)\n",
    "K = 100\n",
    "S[S<K] =0\n",
    "S[S>=K]=1\n",
    "S"
   ]
  }
 ],
 "metadata": {
  "anaconda-cloud": {},
  "kernelspec": {
   "display_name": "Python [conda root]",
   "language": "python",
   "name": "conda-root-py"
  },
  "language_info": {
   "codemirror_mode": {
    "name": "ipython",
    "version": 2
   },
   "file_extension": ".py",
   "mimetype": "text/x-python",
   "name": "python",
   "nbconvert_exporter": "python",
   "pygments_lexer": "ipython2",
   "version": "2.7.12"
  }
 },
 "nbformat": 4,
 "nbformat_minor": 1
}
